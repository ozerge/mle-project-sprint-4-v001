{
 "cells": [
  {
   "cell_type": "markdown",
   "id": "f4095ae4-7294-4b28-853e-88d235002c97",
   "metadata": {},
   "source": [
    "# Инициализация"
   ]
  },
  {
   "cell_type": "markdown",
   "id": "2f2318d2-9df8-4911-915e-15b725c44f8a",
   "metadata": {},
   "source": [
    "Загружаем библиотеки необходимые для выполнения кода ноутбука."
   ]
  },
  {
   "cell_type": "code",
   "execution_count": 1,
   "id": "662d04e7-1b0b-4e4a-9ddf-4526d7fef119",
   "metadata": {},
   "outputs": [],
   "source": [
    "import pandas as pd\n",
    "import numpy as np\n",
    "import subprocess\n",
    "import matplotlib.pyplot as plt"
   ]
  },
  {
   "cell_type": "code",
   "execution_count": 2,
   "id": "46948ccf",
   "metadata": {},
   "outputs": [],
   "source": [
    "%matplotlib inline\n",
    "%config InlineBackend.figure_format = 'png'\n",
    "%config InlineBackend.figure_format = 'retina'\n",
    "\n",
    "RANDOM_STATE = 42"
   ]
  },
  {
   "cell_type": "markdown",
   "id": "bf80fbc5-b660-4fac-8fbb-a5cae77313b3",
   "metadata": {},
   "source": [
    "# === ЭТАП 1 ==="
   ]
  },
  {
   "cell_type": "markdown",
   "id": "5263a8b3-fe99-4204-8a2e-105182792c11",
   "metadata": {},
   "source": [
    "# Загрузка первичных данных"
   ]
  },
  {
   "cell_type": "markdown",
   "id": "1b54a6a5-1656-4e3c-99d1-49dc39451d33",
   "metadata": {},
   "source": [
    "Загружаем первичные данные из файлов:\n",
    "- tracks.parquet\n",
    "- catalog_names.parquet\n",
    "- interactions.parquet"
   ]
  },
  {
   "cell_type": "code",
   "execution_count": 3,
   "id": "3c953e49",
   "metadata": {},
   "outputs": [],
   "source": [
    "def load_parquet_file(filename, base_url=\"https://storage.yandexcloud.net/mle-data/ym/\"):\n",
    "    \"\"\"\n",
    "    Универсальная функция для загрузки parquet файлов.\n",
    "    \n",
    "    Args:\n",
    "        filename (str): Имя файла для загрузки (например, \"tracks.parquet\")\n",
    "        base_url (str): Базовый URL для скачивания файлов\n",
    "    \n",
    "    Returns:\n",
    "        pd.DataFrame или None: Загруженные данные или None при ошибке\n",
    "    \"\"\"\n",
    "    # Формируем полный URL\n",
    "    file_url = f\"{base_url}{filename}\"\n",
    "    \n",
    "    try:\n",
    "        data = pd.read_parquet(filename)\n",
    "        print(f\"✓ {filename} загружен локально\")\n",
    "        return data\n",
    "        \n",
    "    except FileNotFoundError:\n",
    "        print(f\"{filename} не найден, скачиваю из {file_url}...\")\n",
    "        try:\n",
    "            subprocess.run(['wget', file_url], check=True)\n",
    "            data = pd.read_parquet(filename)\n",
    "            print(f\"✓ {filename} успешно скачан и загружен\")\n",
    "            return data\n",
    "        except subprocess.CalledProcessError:\n",
    "            print(f\"❌ Ошибка при скачивании {filename}\")\n",
    "            return None\n",
    "        except Exception as e:\n",
    "            print(f\"❌ Ошибка при чтении скачанного {filename}: {e}\")\n",
    "            return None\n",
    "    except Exception as e:\n",
    "        print(f\"❌ Ошибка при чтении {filename}: {e}\")\n",
    "        return None"
   ]
  },
  {
   "cell_type": "code",
   "execution_count": 4,
   "id": "8565ba23",
   "metadata": {},
   "outputs": [
    {
     "name": "stdout",
     "output_type": "stream",
     "text": [
      "✓ tracks.parquet загружен локально\n",
      "✓ catalog_names.parquet загружен локально\n",
      "✓ interactions.parquet загружен локально\n"
     ]
    }
   ],
   "source": [
    "# Использование функции\n",
    "tracks = load_parquet_file(\"tracks.parquet\")\n",
    "catalog_names = load_parquet_file(\"catalog_names.parquet\")\n",
    "interactions = load_parquet_file(\"interactions.parquet\")"
   ]
  },
  {
   "cell_type": "code",
   "execution_count": 5,
   "id": "eacf251f",
   "metadata": {},
   "outputs": [
    {
     "name": "stdout",
     "output_type": "stream",
     "text": [
      "✓ Все файлы успешно загружены!\n",
      "Tracks: (1000000, 4)\n",
      "Catalog names: (1812471, 3)\n",
      "Interactions: (222629898, 4)\n"
     ]
    }
   ],
   "source": [
    "# Проверяем загрузку\n",
    "if all(x is not None for x in [tracks, catalog_names, interactions]):\n",
    "    print(\"✓ Все файлы успешно загружены!\")\n",
    "    print(f\"Tracks: {tracks.shape}\")\n",
    "    print(f\"Catalog names: {catalog_names.shape}\")\n",
    "    print(f\"Interactions: {interactions.shape}\")\n",
    "else:\n",
    "    print(\"⚠ Не все файлы удалось загрузить\")"
   ]
  },
  {
   "cell_type": "markdown",
   "id": "be03c833",
   "metadata": {},
   "source": [
    "# Обзор данных"
   ]
  },
  {
   "cell_type": "markdown",
   "id": "382add6c",
   "metadata": {},
   "source": [
    "tracks.parquet - данные о треках:  \n",
    " - track_id — идентификатор музыкального трека;  \n",
    " - albums —  список идентификаторов альбомов, содержащих трек;  \n",
    " - artists — список идентификаторов исполнителей трека;  \n",
    " - genres — список идентификаторов жанров, к которым принадлежит трек."
   ]
  },
  {
   "cell_type": "code",
   "execution_count": 6,
   "id": "70f7bdfe-175c-45c1-a2e9-d99f0f33be2e",
   "metadata": {},
   "outputs": [
    {
     "data": {
      "text/html": [
       "<div>\n",
       "<style scoped>\n",
       "    .dataframe tbody tr th:only-of-type {\n",
       "        vertical-align: middle;\n",
       "    }\n",
       "\n",
       "    .dataframe tbody tr th {\n",
       "        vertical-align: top;\n",
       "    }\n",
       "\n",
       "    .dataframe thead th {\n",
       "        text-align: right;\n",
       "    }\n",
       "</style>\n",
       "<table border=\"1\" class=\"dataframe\">\n",
       "  <thead>\n",
       "    <tr style=\"text-align: right;\">\n",
       "      <th></th>\n",
       "      <th>track_id</th>\n",
       "      <th>albums</th>\n",
       "      <th>artists</th>\n",
       "      <th>genres</th>\n",
       "    </tr>\n",
       "  </thead>\n",
       "  <tbody>\n",
       "    <tr>\n",
       "      <th>0</th>\n",
       "      <td>26</td>\n",
       "      <td>[3, 2490753]</td>\n",
       "      <td>[16]</td>\n",
       "      <td>[11, 21]</td>\n",
       "    </tr>\n",
       "    <tr>\n",
       "      <th>1</th>\n",
       "      <td>38</td>\n",
       "      <td>[3, 2490753]</td>\n",
       "      <td>[16]</td>\n",
       "      <td>[11, 21]</td>\n",
       "    </tr>\n",
       "    <tr>\n",
       "      <th>2</th>\n",
       "      <td>135</td>\n",
       "      <td>[12, 214, 2490809]</td>\n",
       "      <td>[84]</td>\n",
       "      <td>[11]</td>\n",
       "    </tr>\n",
       "    <tr>\n",
       "      <th>3</th>\n",
       "      <td>136</td>\n",
       "      <td>[12, 214, 2490809]</td>\n",
       "      <td>[84]</td>\n",
       "      <td>[11]</td>\n",
       "    </tr>\n",
       "    <tr>\n",
       "      <th>4</th>\n",
       "      <td>138</td>\n",
       "      <td>[12, 214, 322, 72275, 72292, 91199, 213505, 24...</td>\n",
       "      <td>[84]</td>\n",
       "      <td>[11]</td>\n",
       "    </tr>\n",
       "  </tbody>\n",
       "</table>\n",
       "</div>"
      ],
      "text/plain": [
       "   track_id                                             albums artists  \\\n",
       "0        26                                       [3, 2490753]    [16]   \n",
       "1        38                                       [3, 2490753]    [16]   \n",
       "2       135                                 [12, 214, 2490809]    [84]   \n",
       "3       136                                 [12, 214, 2490809]    [84]   \n",
       "4       138  [12, 214, 322, 72275, 72292, 91199, 213505, 24...    [84]   \n",
       "\n",
       "     genres  \n",
       "0  [11, 21]  \n",
       "1  [11, 21]  \n",
       "2      [11]  \n",
       "3      [11]  \n",
       "4      [11]  "
      ]
     },
     "execution_count": 6,
     "metadata": {},
     "output_type": "execute_result"
    }
   ],
   "source": [
    "tracks.head()"
   ]
  },
  {
   "cell_type": "code",
   "execution_count": 7,
   "id": "04b2174e",
   "metadata": {},
   "outputs": [
    {
     "name": "stdout",
     "output_type": "stream",
     "text": [
      "<class 'pandas.core.frame.DataFrame'>\n",
      "RangeIndex: 1000000 entries, 0 to 999999\n",
      "Data columns (total 4 columns):\n",
      " #   Column    Non-Null Count    Dtype \n",
      "---  ------    --------------    ----- \n",
      " 0   track_id  1000000 non-null  int64 \n",
      " 1   albums    1000000 non-null  object\n",
      " 2   artists   1000000 non-null  object\n",
      " 3   genres    1000000 non-null  object\n",
      "dtypes: int64(1), object(3)\n",
      "memory usage: 30.5+ MB\n"
     ]
    }
   ],
   "source": [
    "tracks.info()"
   ]
  },
  {
   "cell_type": "code",
   "execution_count": 8,
   "id": "f8562951",
   "metadata": {},
   "outputs": [
    {
     "name": "stdout",
     "output_type": "stream",
     "text": [
      "📊 Уникальность значений:\n",
      "   • Всего записей: 1,000,000\n",
      "   • Уникальных track_id: 1,000,000\n",
      "   • Все track_id уникальны: ✅ ДА\n"
     ]
    }
   ],
   "source": [
    "is_unique = tracks['track_id'].nunique() == len(tracks)\n",
    "unique_count = tracks['track_id'].nunique()\n",
    "total_count = len(tracks)\n",
    "\n",
    "print(f\"📊 Уникальность значений:\")\n",
    "print(f\"   • Всего записей: {total_count:,}\")\n",
    "print(f\"   • Уникальных track_id: {unique_count:,}\")\n",
    "print(f\"   • Все track_id уникальны: {'✅ ДА' if is_unique else '❌ НЕТ'}\")\n",
    "if not is_unique:\n",
    "    duplicates = total_count - unique_count\n",
    "    print(f\"   • Дубликатов найдено: {duplicates:,}\")"
   ]
  },
  {
   "cell_type": "code",
   "execution_count": 9,
   "id": "c2c74216",
   "metadata": {},
   "outputs": [
    {
     "data": {
      "text/html": [
       "<div>\n",
       "<style scoped>\n",
       "    .dataframe tbody tr th:only-of-type {\n",
       "        vertical-align: middle;\n",
       "    }\n",
       "\n",
       "    .dataframe tbody tr th {\n",
       "        vertical-align: top;\n",
       "    }\n",
       "\n",
       "    .dataframe thead th {\n",
       "        text-align: right;\n",
       "    }\n",
       "</style>\n",
       "<table border=\"1\" class=\"dataframe\">\n",
       "  <thead>\n",
       "    <tr style=\"text-align: right;\">\n",
       "      <th></th>\n",
       "      <th>track_id</th>\n",
       "      <th>albums</th>\n",
       "      <th>artists</th>\n",
       "      <th>genres</th>\n",
       "    </tr>\n",
       "  </thead>\n",
       "  <tbody>\n",
       "    <tr>\n",
       "      <th>310821</th>\n",
       "      <td>20200372</td>\n",
       "      <td>[]</td>\n",
       "      <td>[]</td>\n",
       "      <td>[]</td>\n",
       "    </tr>\n",
       "    <tr>\n",
       "      <th>310826</th>\n",
       "      <td>20200380</td>\n",
       "      <td>[]</td>\n",
       "      <td>[]</td>\n",
       "      <td>[]</td>\n",
       "    </tr>\n",
       "    <tr>\n",
       "      <th>312469</th>\n",
       "      <td>20305116</td>\n",
       "      <td>[]</td>\n",
       "      <td>[]</td>\n",
       "      <td>[]</td>\n",
       "    </tr>\n",
       "    <tr>\n",
       "      <th>312474</th>\n",
       "      <td>20305121</td>\n",
       "      <td>[]</td>\n",
       "      <td>[]</td>\n",
       "      <td>[]</td>\n",
       "    </tr>\n",
       "    <tr>\n",
       "      <th>320353</th>\n",
       "      <td>20756854</td>\n",
       "      <td>[]</td>\n",
       "      <td>[]</td>\n",
       "      <td>[]</td>\n",
       "    </tr>\n",
       "    <tr>\n",
       "      <th>326588</th>\n",
       "      <td>21196099</td>\n",
       "      <td>[]</td>\n",
       "      <td>[]</td>\n",
       "      <td>[]</td>\n",
       "    </tr>\n",
       "    <tr>\n",
       "      <th>326592</th>\n",
       "      <td>21196103</td>\n",
       "      <td>[]</td>\n",
       "      <td>[]</td>\n",
       "      <td>[]</td>\n",
       "    </tr>\n",
       "    <tr>\n",
       "      <th>326594</th>\n",
       "      <td>21196105</td>\n",
       "      <td>[]</td>\n",
       "      <td>[]</td>\n",
       "      <td>[]</td>\n",
       "    </tr>\n",
       "    <tr>\n",
       "      <th>326596</th>\n",
       "      <td>21196107</td>\n",
       "      <td>[]</td>\n",
       "      <td>[]</td>\n",
       "      <td>[]</td>\n",
       "    </tr>\n",
       "    <tr>\n",
       "      <th>326598</th>\n",
       "      <td>21196109</td>\n",
       "      <td>[]</td>\n",
       "      <td>[]</td>\n",
       "      <td>[]</td>\n",
       "    </tr>\n",
       "    <tr>\n",
       "      <th>326600</th>\n",
       "      <td>21196111</td>\n",
       "      <td>[]</td>\n",
       "      <td>[]</td>\n",
       "      <td>[]</td>\n",
       "    </tr>\n",
       "    <tr>\n",
       "      <th>326605</th>\n",
       "      <td>21196116</td>\n",
       "      <td>[]</td>\n",
       "      <td>[]</td>\n",
       "      <td>[]</td>\n",
       "    </tr>\n",
       "    <tr>\n",
       "      <th>326606</th>\n",
       "      <td>21196117</td>\n",
       "      <td>[]</td>\n",
       "      <td>[]</td>\n",
       "      <td>[]</td>\n",
       "    </tr>\n",
       "    <tr>\n",
       "      <th>326607</th>\n",
       "      <td>21196118</td>\n",
       "      <td>[]</td>\n",
       "      <td>[]</td>\n",
       "      <td>[]</td>\n",
       "    </tr>\n",
       "    <tr>\n",
       "      <th>415644</th>\n",
       "      <td>28530632</td>\n",
       "      <td>[]</td>\n",
       "      <td>[]</td>\n",
       "      <td>[]</td>\n",
       "    </tr>\n",
       "    <tr>\n",
       "      <th>503277</th>\n",
       "      <td>34828749</td>\n",
       "      <td>[]</td>\n",
       "      <td>[]</td>\n",
       "      <td>[]</td>\n",
       "    </tr>\n",
       "    <tr>\n",
       "      <th>527490</th>\n",
       "      <td>36598340</td>\n",
       "      <td>[]</td>\n",
       "      <td>[]</td>\n",
       "      <td>[]</td>\n",
       "    </tr>\n",
       "    <tr>\n",
       "      <th>700211</th>\n",
       "      <td>51641225</td>\n",
       "      <td>[]</td>\n",
       "      <td>[]</td>\n",
       "      <td>[]</td>\n",
       "    </tr>\n",
       "  </tbody>\n",
       "</table>\n",
       "</div>"
      ],
      "text/plain": [
       "        track_id albums artists genres\n",
       "310821  20200372     []      []     []\n",
       "310826  20200380     []      []     []\n",
       "312469  20305116     []      []     []\n",
       "312474  20305121     []      []     []\n",
       "320353  20756854     []      []     []\n",
       "326588  21196099     []      []     []\n",
       "326592  21196103     []      []     []\n",
       "326594  21196105     []      []     []\n",
       "326596  21196107     []      []     []\n",
       "326598  21196109     []      []     []\n",
       "326600  21196111     []      []     []\n",
       "326605  21196116     []      []     []\n",
       "326606  21196117     []      []     []\n",
       "326607  21196118     []      []     []\n",
       "415644  28530632     []      []     []\n",
       "503277  34828749     []      []     []\n",
       "527490  36598340     []      []     []\n",
       "700211  51641225     []      []     []"
      ]
     },
     "execution_count": 9,
     "metadata": {},
     "output_type": "execute_result"
    }
   ],
   "source": [
    "tracks[tracks[\"albums\"].str.len() == 0]"
   ]
  },
  {
   "cell_type": "markdown",
   "id": "e05bb753",
   "metadata": {},
   "source": [
    "есть небольшое кол-во пустых списков идентификаторов альбомов (с пустыми для них идентификаторами исполнителей трека и жанров)"
   ]
  },
  {
   "cell_type": "code",
   "execution_count": 10,
   "id": "b19f0b25",
   "metadata": {},
   "outputs": [],
   "source": [
    "def check_empty_lists(df, column_name, entity_name=None):\n",
    "    \"\"\"\n",
    "    Проверяет колонку с списками на пустые значения\n",
    "    \n",
    "    Parameters:\n",
    "    df - DataFrame для анализа\n",
    "    column_name - название колонки со списками\n",
    "    entity_name - человекочитаемое название сущности (опционально)\n",
    "    \"\"\"\n",
    "    \n",
    "    # Подсчитываем пустые списки\n",
    "    empty_mask = df[column_name].str.len() == 0\n",
    "    count_empty = empty_mask.sum()\n",
    "    total_count = len(df)\n",
    "    \n",
    "    print(f\"Записей с пустыми {entity_name}: {count_empty:,}\")\n",
    "    print(f\"Процент от общего числа: {count_empty/total_count*100:.4f}%\")\n",
    "    print(f\"Всего записей: {total_count:,}\")\n",
    "    print(f\"Записей с {entity_name}: {total_count - count_empty:,}\")\n",
    "    \n",
    "    if count_empty > 0:\n",
    "        # Получаем примеры ID с пустыми списками\n",
    "        if 'track_id' in df.columns:\n",
    "            sample_ids = df.loc[empty_mask, 'track_id'].head(5).tolist()\n",
    "            print(f\"\\n📋 Примеры track_id с пустыми {entity_name}:\")\n",
    "            for track_id in sample_ids:\n",
    "                print(f\"   • {track_id}\")\n",
    "        else:\n",
    "            # Если нет track_id, показываем индексы\n",
    "            sample_indices = df[empty_mask].index[:5].tolist()\n",
    "            print(f\"\\n📋 Примеры индексов с пустыми {entity_name}:\")\n",
    "            for idx in sample_indices:\n",
    "                print(f\"   • Индекс: {idx}\")\n",
    "    \n",
    "    print(\"=\" * 50)\n",
    "    return empty_mask"
   ]
  },
  {
   "cell_type": "code",
   "execution_count": 11,
   "id": "7e2be6d4",
   "metadata": {},
   "outputs": [
    {
     "name": "stdout",
     "output_type": "stream",
     "text": [
      "Записей с пустыми альбомами: 18\n",
      "Процент от общего числа: 0.0018%\n",
      "Всего записей: 1,000,000\n",
      "Записей с альбомами: 999,982\n",
      "\n",
      "📋 Примеры track_id с пустыми альбомами:\n",
      "   • 20200372\n",
      "   • 20200380\n",
      "   • 20305116\n",
      "   • 20305121\n",
      "   • 20756854\n",
      "==================================================\n"
     ]
    }
   ],
   "source": [
    "albums_result = check_empty_lists(tracks, 'albums', 'альбомами')"
   ]
  },
  {
   "cell_type": "code",
   "execution_count": 12,
   "id": "54fdc820",
   "metadata": {},
   "outputs": [
    {
     "name": "stdout",
     "output_type": "stream",
     "text": [
      "Удалено треков: 18\n",
      "Осталось треков: 999,982\n",
      "=============================================\n"
     ]
    }
   ],
   "source": [
    "# Удаляем треки без альбомов\n",
    "initial_count = len(tracks)\n",
    "track_id_without_albums = tracks[tracks[\"albums\"].str.len() == 0][\"track_id\"]\n",
    "tracks = tracks[~tracks[\"track_id\"].isin(track_id_without_albums)]\n",
    "final_count = len(tracks)\n",
    "\n",
    "print(f\"Удалено треков: {initial_count - final_count:,}\")\n",
    "print(f\"Осталось треков: {final_count:,}\")\n",
    "print(\"=\" * 45)"
   ]
  },
  {
   "cell_type": "code",
   "execution_count": 13,
   "id": "c316a641",
   "metadata": {},
   "outputs": [
    {
     "name": "stdout",
     "output_type": "stream",
     "text": [
      "Записей с пустыми артистами: 15,351\n",
      "Процент от общего числа: 1.5351%\n",
      "Всего записей: 999,982\n",
      "Записей с артистами: 984,631\n",
      "\n",
      "📋 Примеры track_id с пустыми артистами:\n",
      "   • 3599314\n",
      "   • 3599591\n",
      "   • 4790215\n",
      "   • 10063296\n",
      "   • 12122918\n",
      "==================================================\n"
     ]
    }
   ],
   "source": [
    "artists_result = check_empty_lists(tracks, 'artists', 'артистами')"
   ]
  },
  {
   "cell_type": "code",
   "execution_count": 14,
   "id": "7d73bb0d",
   "metadata": {},
   "outputs": [
    {
     "name": "stdout",
     "output_type": "stream",
     "text": [
      "Удалено треков: 15,351\n",
      "Осталось треков: 984,631\n",
      "=============================================\n"
     ]
    }
   ],
   "source": [
    "# Удаляем треки без артистов\n",
    "initial_count = len(tracks)\n",
    "track_id_without_artists = tracks[tracks[\"artists\"].str.len() == 0][\"track_id\"]\n",
    "tracks = tracks[~tracks[\"track_id\"].isin(track_id_without_artists)]\n",
    "final_count = len(tracks)\n",
    "\n",
    "print(f\"Удалено треков: {initial_count - final_count:,}\")\n",
    "print(f\"Осталось треков: {final_count:,}\")\n",
    "print(\"=\" * 45)"
   ]
  },
  {
   "cell_type": "code",
   "execution_count": 15,
   "id": "3c003f77",
   "metadata": {},
   "outputs": [
    {
     "name": "stdout",
     "output_type": "stream",
     "text": [
      "Записей с пустыми жанрами: 3,654\n",
      "Процент от общего числа: 0.3711%\n",
      "Всего записей: 984,631\n",
      "Записей с жанрами: 980,977\n",
      "\n",
      "📋 Примеры track_id с пустыми жанрами:\n",
      "   • 2520\n",
      "   • 16776\n",
      "   • 16801\n",
      "   • 23752\n",
      "   • 38012\n",
      "==================================================\n"
     ]
    }
   ],
   "source": [
    "genres_result = check_empty_lists(tracks, 'genres', 'жанрами')"
   ]
  },
  {
   "cell_type": "code",
   "execution_count": 16,
   "id": "e7faffef",
   "metadata": {},
   "outputs": [
    {
     "name": "stdout",
     "output_type": "stream",
     "text": [
      "Удалено треков: 3,654\n",
      "Осталось треков: 980,977\n",
      "=============================================\n"
     ]
    }
   ],
   "source": [
    "# Удаляем треки без жанров\n",
    "initial_count = len(tracks)\n",
    "track_id_without_genres = tracks[tracks[\"genres\"].str.len() == 0][\"track_id\"]\n",
    "tracks = tracks[~tracks[\"track_id\"].isin(track_id_without_genres)]\n",
    "final_count = len(tracks)\n",
    "\n",
    "print(f\"Удалено треков: {initial_count - final_count:,}\")\n",
    "print(f\"Осталось треков: {final_count:,}\")\n",
    "print(\"=\" * 45)"
   ]
  },
  {
   "cell_type": "code",
   "execution_count": 17,
   "id": "8208f34a",
   "metadata": {},
   "outputs": [
    {
     "name": "stdout",
     "output_type": "stream",
     "text": [
      "📊 СТАТИСТИКА УДАЛЕННЫХ ТРЕКОВ\n",
      "========================================\n",
      "Всего удалено записей: 19,023\n",
      "Уникальных track_id: 19,023\n",
      "\n",
      "📈 ОБЩАЯ СТАТИСТИКА:\n",
      "Исходное количество треков: 1,000,000\n",
      "Удалено уникальных треков: 19,023\n",
      "Осталось треков: 980,977\n",
      "Процент удаленных: 1.93%\n"
     ]
    }
   ],
   "source": [
    "# Объединяем все списки удаленных треков\n",
    "track_id_deleted = track_id_without_albums.tolist() + track_id_without_artists.tolist() + track_id_without_genres.tolist()\n",
    "\n",
    "print(\"📊 СТАТИСТИКА УДАЛЕННЫХ ТРЕКОВ\")\n",
    "print(\"=\" * 40)\n",
    "\n",
    "# Подсчитываем общую статистику\n",
    "total_deleted = len(track_id_deleted)\n",
    "unique_deleted = len(set(track_id_deleted))\n",
    "\n",
    "print(f\"Всего удалено записей: {total_deleted:,}\")\n",
    "print(f\"Уникальных track_id: {unique_deleted:,}\")\n",
    "\n",
    "# Статистика по исходным данным\n",
    "#initial_count = 1000000  # Замените на ваше исходное количество\n",
    "remaining_count = unique_count - unique_deleted\n",
    "\n",
    "print(f\"\\n📈 ОБЩАЯ СТАТИСТИКА:\")\n",
    "print(f\"Исходное количество треков: {unique_count:,}\")\n",
    "print(f\"Удалено уникальных треков: {unique_deleted:,}\")\n",
    "print(f\"Осталось треков: {remaining_count:,}\")\n",
    "print(f\"Процент удаленных: {unique_deleted/initial_count*100:.2f}%\")"
   ]
  },
  {
   "cell_type": "code",
   "execution_count": 18,
   "id": "a43c4b79",
   "metadata": {},
   "outputs": [
    {
     "name": "stdout",
     "output_type": "stream",
     "text": [
      "💾 Список из 19,023 track_id сохранен в 'deleted_tracks.csv'\n"
     ]
    }
   ],
   "source": [
    "# Сохраняем список в CSV\n",
    "deleted_df = pd.DataFrame({'deleted_track_id': track_id_deleted})\n",
    "deleted_df.to_csv('deleted_tracks.csv', index=False)\n",
    "\n",
    "print(f\"💾 Список из {len(track_id_deleted):,} track_id сохранен в 'deleted_tracks.csv'\")"
   ]
  },
  {
   "cell_type": "code",
   "execution_count": 19,
   "id": "6d0eb55f",
   "metadata": {},
   "outputs": [
    {
     "name": "stdout",
     "output_type": "stream",
     "text": [
      "Новый тип track_id: int32\n",
      "Память после преобразования:\n",
      "<class 'pandas.core.frame.DataFrame'>\n",
      "Index: 980977 entries, 0 to 999999\n",
      "Data columns (total 4 columns):\n",
      " #   Column    Non-Null Count   Dtype \n",
      "---  ------    --------------   ----- \n",
      " 0   track_id  980977 non-null  int32 \n",
      " 1   albums    980977 non-null  object\n",
      " 2   artists   980977 non-null  object\n",
      " 3   genres    980977 non-null  object\n",
      "dtypes: int32(1), object(3)\n",
      "memory usage: 33.7+ MB\n"
     ]
    }
   ],
   "source": [
    "# Преобразуем track_id из int64 в int32\n",
    "tracks['track_id'] = tracks['track_id'].astype('int32')\n",
    "\n",
    "# Проверим результат\n",
    "print(f\"Новый тип track_id: {tracks['track_id'].dtype}\")\n",
    "print(f\"Память после преобразования:\")\n",
    "tracks.info()"
   ]
  },
  {
   "cell_type": "code",
   "execution_count": 20,
   "id": "9718a3e1",
   "metadata": {},
   "outputs": [
    {
     "name": "stdout",
     "output_type": "stream",
     "text": [
      "<class 'pandas.core.frame.DataFrame'>\n",
      "Index: 980977 entries, 0 to 999999\n",
      "Data columns (total 4 columns):\n",
      " #   Column    Non-Null Count   Dtype \n",
      "---  ------    --------------   ----- \n",
      " 0   track_id  980977 non-null  int32 \n",
      " 1   albums    980977 non-null  object\n",
      " 2   artists   980977 non-null  object\n",
      " 3   genres    980977 non-null  object\n",
      "dtypes: int32(1), object(3)\n",
      "memory usage: 33.7+ MB\n"
     ]
    }
   ],
   "source": [
    "tracks.info()"
   ]
  },
  {
   "cell_type": "markdown",
   "id": "f0eaaca5",
   "metadata": {},
   "source": [
    "_______________________________________________"
   ]
  },
  {
   "cell_type": "markdown",
   "id": "25243ccd",
   "metadata": {},
   "source": [
    "catalog_names.parquet - имена артистов, названия альбомов, треков и жанров:  \n",
    " - id — идентификатор одной из каталожных единиц (трека, альбома, исполнителя, жанра);  \n",
    " - type — тип идентификатора;  \n",
    " - name — имя (название) каталожной единицы."
   ]
  },
  {
   "cell_type": "code",
   "execution_count": 21,
   "id": "78c71b09",
   "metadata": {},
   "outputs": [
    {
     "data": {
      "text/html": [
       "<div>\n",
       "<style scoped>\n",
       "    .dataframe tbody tr th:only-of-type {\n",
       "        vertical-align: middle;\n",
       "    }\n",
       "\n",
       "    .dataframe tbody tr th {\n",
       "        vertical-align: top;\n",
       "    }\n",
       "\n",
       "    .dataframe thead th {\n",
       "        text-align: right;\n",
       "    }\n",
       "</style>\n",
       "<table border=\"1\" class=\"dataframe\">\n",
       "  <thead>\n",
       "    <tr style=\"text-align: right;\">\n",
       "      <th></th>\n",
       "      <th>id</th>\n",
       "      <th>type</th>\n",
       "      <th>name</th>\n",
       "    </tr>\n",
       "  </thead>\n",
       "  <tbody>\n",
       "    <tr>\n",
       "      <th>0</th>\n",
       "      <td>3</td>\n",
       "      <td>album</td>\n",
       "      <td>Taller Children</td>\n",
       "    </tr>\n",
       "    <tr>\n",
       "      <th>1</th>\n",
       "      <td>12</td>\n",
       "      <td>album</td>\n",
       "      <td>Wild Young Hearts</td>\n",
       "    </tr>\n",
       "    <tr>\n",
       "      <th>2</th>\n",
       "      <td>13</td>\n",
       "      <td>album</td>\n",
       "      <td>Lonesome Crow</td>\n",
       "    </tr>\n",
       "    <tr>\n",
       "      <th>3</th>\n",
       "      <td>17</td>\n",
       "      <td>album</td>\n",
       "      <td>Graffiti Soul</td>\n",
       "    </tr>\n",
       "    <tr>\n",
       "      <th>4</th>\n",
       "      <td>26</td>\n",
       "      <td>album</td>\n",
       "      <td>Blues Six Pack</td>\n",
       "    </tr>\n",
       "  </tbody>\n",
       "</table>\n",
       "</div>"
      ],
      "text/plain": [
       "   id   type               name\n",
       "0   3  album    Taller Children\n",
       "1  12  album  Wild Young Hearts\n",
       "2  13  album      Lonesome Crow\n",
       "3  17  album      Graffiti Soul\n",
       "4  26  album     Blues Six Pack"
      ]
     },
     "execution_count": 21,
     "metadata": {},
     "output_type": "execute_result"
    }
   ],
   "source": [
    "catalog_names.head()"
   ]
  },
  {
   "cell_type": "code",
   "execution_count": 22,
   "id": "c007e7b8",
   "metadata": {},
   "outputs": [
    {
     "name": "stdout",
     "output_type": "stream",
     "text": [
      "<class 'pandas.core.frame.DataFrame'>\n",
      "RangeIndex: 1812471 entries, 0 to 1812470\n",
      "Data columns (total 3 columns):\n",
      " #   Column  Dtype \n",
      "---  ------  ----- \n",
      " 0   id      int64 \n",
      " 1   type    object\n",
      " 2   name    object\n",
      "dtypes: int64(1), object(2)\n",
      "memory usage: 41.5+ MB\n"
     ]
    }
   ],
   "source": [
    "catalog_names.info()"
   ]
  },
  {
   "cell_type": "markdown",
   "id": "fb1e0501",
   "metadata": {},
   "source": [
    "_____________________"
   ]
  },
  {
   "cell_type": "markdown",
   "id": "d94897fe",
   "metadata": {},
   "source": [
    "interactions.parquet - данные о том, какие пользователи прослушали тот или иной трек:  \n",
    "- user_id — идентификатор пользователя,  \n",
    "- track_id — идентификатор музыкального трека,  \n",
    "- track_seq — номер места трека в истории пользователя,  \n",
    "- started_at — дата начала прослушивания трека."
   ]
  },
  {
   "cell_type": "code",
   "execution_count": 23,
   "id": "9ebef24d",
   "metadata": {},
   "outputs": [
    {
     "data": {
      "text/html": [
       "<div>\n",
       "<style scoped>\n",
       "    .dataframe tbody tr th:only-of-type {\n",
       "        vertical-align: middle;\n",
       "    }\n",
       "\n",
       "    .dataframe tbody tr th {\n",
       "        vertical-align: top;\n",
       "    }\n",
       "\n",
       "    .dataframe thead th {\n",
       "        text-align: right;\n",
       "    }\n",
       "</style>\n",
       "<table border=\"1\" class=\"dataframe\">\n",
       "  <thead>\n",
       "    <tr style=\"text-align: right;\">\n",
       "      <th></th>\n",
       "      <th>user_id</th>\n",
       "      <th>track_id</th>\n",
       "      <th>track_seq</th>\n",
       "      <th>started_at</th>\n",
       "    </tr>\n",
       "  </thead>\n",
       "  <tbody>\n",
       "    <tr>\n",
       "      <th>0</th>\n",
       "      <td>0</td>\n",
       "      <td>99262</td>\n",
       "      <td>1</td>\n",
       "      <td>2022-07-17</td>\n",
       "    </tr>\n",
       "    <tr>\n",
       "      <th>1</th>\n",
       "      <td>0</td>\n",
       "      <td>589498</td>\n",
       "      <td>2</td>\n",
       "      <td>2022-07-19</td>\n",
       "    </tr>\n",
       "    <tr>\n",
       "      <th>2</th>\n",
       "      <td>0</td>\n",
       "      <td>590262</td>\n",
       "      <td>3</td>\n",
       "      <td>2022-07-21</td>\n",
       "    </tr>\n",
       "    <tr>\n",
       "      <th>3</th>\n",
       "      <td>0</td>\n",
       "      <td>590303</td>\n",
       "      <td>4</td>\n",
       "      <td>2022-07-22</td>\n",
       "    </tr>\n",
       "    <tr>\n",
       "      <th>4</th>\n",
       "      <td>0</td>\n",
       "      <td>590692</td>\n",
       "      <td>5</td>\n",
       "      <td>2022-07-22</td>\n",
       "    </tr>\n",
       "  </tbody>\n",
       "</table>\n",
       "</div>"
      ],
      "text/plain": [
       "   user_id  track_id  track_seq started_at\n",
       "0        0     99262          1 2022-07-17\n",
       "1        0    589498          2 2022-07-19\n",
       "2        0    590262          3 2022-07-21\n",
       "3        0    590303          4 2022-07-22\n",
       "4        0    590692          5 2022-07-22"
      ]
     },
     "execution_count": 23,
     "metadata": {},
     "output_type": "execute_result"
    }
   ],
   "source": [
    "interactions.head()"
   ]
  },
  {
   "cell_type": "code",
   "execution_count": 24,
   "id": "257abed5",
   "metadata": {},
   "outputs": [
    {
     "name": "stdout",
     "output_type": "stream",
     "text": [
      "<class 'pandas.core.frame.DataFrame'>\n",
      "Index: 222629898 entries, 0 to 291\n",
      "Data columns (total 4 columns):\n",
      " #   Column      Dtype         \n",
      "---  ------      -----         \n",
      " 0   user_id     int32         \n",
      " 1   track_id    int32         \n",
      " 2   track_seq   int16         \n",
      " 3   started_at  datetime64[ns]\n",
      "dtypes: datetime64[ns](1), int16(1), int32(2)\n",
      "memory usage: 5.4 GB\n"
     ]
    }
   ],
   "source": [
    "interactions.info()"
   ]
  },
  {
   "cell_type": "markdown",
   "id": "46a85307-896c-4fac-9fcf-f0dffa90889e",
   "metadata": {},
   "source": [
    "Проверяем данные, есть ли с ними явные проблемы."
   ]
  },
  {
   "cell_type": "code",
   "execution_count": 25,
   "id": "7f8b6641",
   "metadata": {},
   "outputs": [],
   "source": [
    "interactions_clean = interactions[~interactions['track_id'].isin(track_id_deleted)].reset_index(drop=True)"
   ]
  },
  {
   "cell_type": "code",
   "execution_count": 26,
   "id": "d7ee727b",
   "metadata": {},
   "outputs": [
    {
     "name": "stdout",
     "output_type": "stream",
     "text": [
      "Тип track_id в tracks: int32\n",
      "Тип track_id в interactions: int32\n",
      "Отсутствующих track_id в tracks: 19023\n"
     ]
    }
   ],
   "source": [
    "# Убедимся, что теперь типы совпадают\n",
    "print(f\"Тип track_id в tracks: {tracks['track_id'].dtype}\")\n",
    "print(f\"Тип track_id в interactions: {interactions['track_id'].dtype}\")\n",
    "\n",
    "# Проверим, что все track_id из interactions есть в tracks\n",
    "missing_tracks = set(interactions['track_id']) - set(tracks['track_id'])\n",
    "print(f\"Отсутствующих track_id в tracks: {len(missing_tracks)}\")"
   ]
  },
  {
   "cell_type": "code",
   "execution_count": 27,
   "id": "210c27c2",
   "metadata": {},
   "outputs": [
    {
     "data": {
      "text/plain": [
       "980977"
      ]
     },
     "execution_count": 27,
     "metadata": {},
     "output_type": "execute_result"
    }
   ],
   "source": [
    "interactions_clean[\"track_id\"].nunique()"
   ]
  },
  {
   "cell_type": "code",
   "execution_count": 28,
   "id": "efd2e2eb-3bec-4ce1-87ac-232bab8bc0d0",
   "metadata": {},
   "outputs": [
    {
     "data": {
      "text/plain": [
       "222184449"
      ]
     },
     "execution_count": 28,
     "metadata": {},
     "output_type": "execute_result"
    }
   ],
   "source": [
    "len(interactions_clean)"
   ]
  },
  {
   "cell_type": "code",
   "execution_count": 29,
   "id": "44dd1fca",
   "metadata": {},
   "outputs": [
    {
     "name": "stdout",
     "output_type": "stream",
     "text": [
      "Процент оставшихся: 99.80%\n"
     ]
    }
   ],
   "source": [
    "print(f\"Процент оставшихся: {len(interactions_clean)*100/len(interactions):.2f}%\")"
   ]
  },
  {
   "cell_type": "code",
   "execution_count": 30,
   "id": "e0cd9962",
   "metadata": {},
   "outputs": [
    {
     "data": {
      "text/html": [
       "<div>\n",
       "<style scoped>\n",
       "    .dataframe tbody tr th:only-of-type {\n",
       "        vertical-align: middle;\n",
       "    }\n",
       "\n",
       "    .dataframe tbody tr th {\n",
       "        vertical-align: top;\n",
       "    }\n",
       "\n",
       "    .dataframe thead th {\n",
       "        text-align: right;\n",
       "    }\n",
       "</style>\n",
       "<table border=\"1\" class=\"dataframe\">\n",
       "  <thead>\n",
       "    <tr style=\"text-align: right;\">\n",
       "      <th></th>\n",
       "      <th>user_id</th>\n",
       "      <th>track_id</th>\n",
       "      <th>track_seq</th>\n",
       "      <th>started_at</th>\n",
       "    </tr>\n",
       "  </thead>\n",
       "  <tbody>\n",
       "  </tbody>\n",
       "</table>\n",
       "</div>"
      ],
      "text/plain": [
       "Empty DataFrame\n",
       "Columns: [user_id, track_id, track_seq, started_at]\n",
       "Index: []"
      ]
     },
     "execution_count": 30,
     "metadata": {},
     "output_type": "execute_result"
    }
   ],
   "source": [
    "interactions_clean[interactions_clean[\"track_seq\"].isnull()]"
   ]
  },
  {
   "cell_type": "markdown",
   "id": "3559c66d",
   "metadata": {},
   "source": [
    "пропусков по track_seq нет"
   ]
  },
  {
   "cell_type": "code",
   "execution_count": 31,
   "id": "f3f9d399",
   "metadata": {},
   "outputs": [
    {
     "data": {
      "text/plain": [
       "count    222184449.0\n",
       "mean           462.0\n",
       "std            824.8\n",
       "min              1.0\n",
       "25%             56.0\n",
       "50%            181.0\n",
       "75%            505.0\n",
       "max          16637.0\n",
       "Name: track_seq, dtype: object"
      ]
     },
     "execution_count": 31,
     "metadata": {},
     "output_type": "execute_result"
    }
   ],
   "source": [
    "interactions_clean[\"track_seq\"].describe().apply(lambda x: f\"{x:0.1f}\")"
   ]
  },
  {
   "cell_type": "markdown",
   "id": "8376d931",
   "metadata": {},
   "source": [
    "- max(track_seq) = 16637  \n",
    "- min(track_seq) = 1  \n",
    "- 75% track_seq меньше 506 \n",
    "- на будущее: посчитать их за выбросы и удалить из данных"
   ]
  },
  {
   "cell_type": "code",
   "execution_count": 32,
   "id": "224e0c08",
   "metadata": {},
   "outputs": [
    {
     "data": {
      "text/html": [
       "<div>\n",
       "<style scoped>\n",
       "    .dataframe tbody tr th:only-of-type {\n",
       "        vertical-align: middle;\n",
       "    }\n",
       "\n",
       "    .dataframe tbody tr th {\n",
       "        vertical-align: top;\n",
       "    }\n",
       "\n",
       "    .dataframe thead th {\n",
       "        text-align: right;\n",
       "    }\n",
       "</style>\n",
       "<table border=\"1\" class=\"dataframe\">\n",
       "  <thead>\n",
       "    <tr style=\"text-align: right;\">\n",
       "      <th></th>\n",
       "      <th>user_id</th>\n",
       "      <th>track_id</th>\n",
       "      <th>track_seq</th>\n",
       "      <th>started_at</th>\n",
       "    </tr>\n",
       "  </thead>\n",
       "  <tbody>\n",
       "    <tr>\n",
       "      <th>0</th>\n",
       "      <td>0</td>\n",
       "      <td>99262</td>\n",
       "      <td>1</td>\n",
       "      <td>2022-07-17</td>\n",
       "    </tr>\n",
       "    <tr>\n",
       "      <th>1</th>\n",
       "      <td>0</td>\n",
       "      <td>589498</td>\n",
       "      <td>2</td>\n",
       "      <td>2022-07-19</td>\n",
       "    </tr>\n",
       "    <tr>\n",
       "      <th>2</th>\n",
       "      <td>0</td>\n",
       "      <td>590262</td>\n",
       "      <td>3</td>\n",
       "      <td>2022-07-21</td>\n",
       "    </tr>\n",
       "    <tr>\n",
       "      <th>3</th>\n",
       "      <td>0</td>\n",
       "      <td>590303</td>\n",
       "      <td>4</td>\n",
       "      <td>2022-07-22</td>\n",
       "    </tr>\n",
       "    <tr>\n",
       "      <th>4</th>\n",
       "      <td>0</td>\n",
       "      <td>590692</td>\n",
       "      <td>5</td>\n",
       "      <td>2022-07-22</td>\n",
       "    </tr>\n",
       "  </tbody>\n",
       "</table>\n",
       "</div>"
      ],
      "text/plain": [
       "   user_id  track_id  track_seq started_at\n",
       "0        0     99262          1 2022-07-17\n",
       "1        0    589498          2 2022-07-19\n",
       "2        0    590262          3 2022-07-21\n",
       "3        0    590303          4 2022-07-22\n",
       "4        0    590692          5 2022-07-22"
      ]
     },
     "execution_count": 32,
     "metadata": {},
     "output_type": "execute_result"
    }
   ],
   "source": [
    "# оставим только взаимодействия с номерами места трека в истории пользователя меньше-равно 1000\n",
    "interactions_clean = interactions_clean[interactions_clean[\"track_seq\"] <= 1000].reset_index(drop=True)\n",
    "interactions_clean.head()"
   ]
  },
  {
   "cell_type": "code",
   "execution_count": 33,
   "id": "eb3d94fc",
   "metadata": {},
   "outputs": [
    {
     "name": "stdout",
     "output_type": "stream",
     "text": [
      "Процент оставшихся взаимодействий: 87.81%\n"
     ]
    }
   ],
   "source": [
    "print(f\"Процент оставшихся взаимодействий: {len(interactions_clean)*100/len(interactions):.2f}%\")"
   ]
  },
  {
   "cell_type": "code",
   "execution_count": 34,
   "id": "eaaeac9e",
   "metadata": {},
   "outputs": [
    {
     "data": {
      "text/html": [
       "<div>\n",
       "<style scoped>\n",
       "    .dataframe tbody tr th:only-of-type {\n",
       "        vertical-align: middle;\n",
       "    }\n",
       "\n",
       "    .dataframe tbody tr th {\n",
       "        vertical-align: top;\n",
       "    }\n",
       "\n",
       "    .dataframe thead th {\n",
       "        text-align: right;\n",
       "    }\n",
       "</style>\n",
       "<table border=\"1\" class=\"dataframe\">\n",
       "  <thead>\n",
       "    <tr style=\"text-align: right;\">\n",
       "      <th></th>\n",
       "      <th>user_id</th>\n",
       "      <th>track_id</th>\n",
       "      <th>track_seq</th>\n",
       "      <th>started_at</th>\n",
       "    </tr>\n",
       "  </thead>\n",
       "  <tbody>\n",
       "  </tbody>\n",
       "</table>\n",
       "</div>"
      ],
      "text/plain": [
       "Empty DataFrame\n",
       "Columns: [user_id, track_id, track_seq, started_at]\n",
       "Index: []"
      ]
     },
     "execution_count": 34,
     "metadata": {},
     "output_type": "execute_result"
    }
   ],
   "source": [
    "interactions_clean[interactions_clean[\"started_at\"].isnull()]\n",
    "# пропусков по started_at нет"
   ]
  },
  {
   "cell_type": "code",
   "execution_count": 35,
   "id": "51262650",
   "metadata": {},
   "outputs": [
    {
     "data": {
      "text/plain": [
       "count                        195486833\n",
       "mean     2022-08-26 18:29:16.756822016\n",
       "min                2022-01-01 00:00:00\n",
       "25%                2022-06-27 00:00:00\n",
       "50%                2022-09-12 00:00:00\n",
       "75%                2022-11-07 00:00:00\n",
       "max                2022-12-31 00:00:00\n",
       "Name: started_at, dtype: object"
      ]
     },
     "execution_count": 35,
     "metadata": {},
     "output_type": "execute_result"
    }
   ],
   "source": [
    "interactions_clean[\"started_at\"].describe()"
   ]
  },
  {
   "cell_type": "markdown",
   "id": "222ae9a3",
   "metadata": {},
   "source": [
    "- min(started_at) = 2022-01-01  \n",
    "- max(started_at) = 2022-12-31  \n",
    "- все корректно, данные датированы за весь 2022 год"
   ]
  },
  {
   "cell_type": "code",
   "execution_count": null,
   "id": "8c6e0821",
   "metadata": {},
   "outputs": [
    {
     "name": "stdout",
     "output_type": "stream",
     "text": [
      "                  track_seq started_at\n",
      "user_id track_id                      \n",
      "23030   62107387         62 2022-10-10\n",
      "398657  38714371        473 2022-11-01\n",
      "443853  2193302          36 2022-12-06\n",
      "1339870 45430540        282 2022-08-31\n",
      "1363369 433550           13 2022-12-23\n"
     ]
    }
   ],
   "source": [
    "# Пример данных по взаимодействиям:\n",
    "print(interactions_clean.sample(5, random_state=RANDOM_STATE)\n",
    "                        .sort_values(\"user_id\")\n",
    "                        .set_index([\"user_id\", \"track_id\"])\n",
    "                        .to_string())"
   ]
  },
  {
   "cell_type": "markdown",
   "id": "318b573a-9e2d-4808-95db-60cfb8bbdb73",
   "metadata": {
    "editable": true,
    "slideshow": {
     "slide_type": ""
    },
    "tags": []
   },
   "source": [
    "# Выводы"
   ]
  },
  {
   "cell_type": "markdown",
   "id": "caa96e12-36a8-4401-8f11-98627a49ae9d",
   "metadata": {},
   "source": [
    "Приведём выводы по первому знакомству с данными:\n",
    "- есть ли с данными явные проблемы,\n",
    "- какие корректирующие действия (в целом) были предприняты."
   ]
  },
  {
   "cell_type": "code",
   "execution_count": null,
   "id": "f58cd010-c2fa-475f-b7e9-767965cd4f55",
   "metadata": {},
   "outputs": [],
   "source": []
  },
  {
   "cell_type": "code",
   "execution_count": null,
   "id": "9eb65c5c-3c2a-412a-ab7e-30ec9da54fea",
   "metadata": {},
   "outputs": [],
   "source": []
  },
  {
   "cell_type": "markdown",
   "id": "7bc3296b-eba6-4333-a78d-b9304aa87e3d",
   "metadata": {},
   "source": [
    "# === ЭТАП 2 ==="
   ]
  },
  {
   "cell_type": "markdown",
   "id": "68e73960-fd38-4e15-8db0-9a25c35dfd25",
   "metadata": {},
   "source": [
    "# EDA"
   ]
  },
  {
   "cell_type": "markdown",
   "id": "a30e823e-8e0f-4a76-a02e-8d1ba8bf0f8a",
   "metadata": {},
   "source": [
    "Распределение количества прослушанных треков."
   ]
  },
  {
   "cell_type": "code",
   "execution_count": null,
   "id": "9bf5eaba-35f7-4da7-be59-9ab4a34b2423",
   "metadata": {},
   "outputs": [],
   "source": []
  },
  {
   "cell_type": "markdown",
   "id": "d765519a-18dd-4d30-9e29-cc2d84cacd79",
   "metadata": {},
   "source": [
    "Наиболее популярные треки"
   ]
  },
  {
   "cell_type": "code",
   "execution_count": null,
   "id": "aecaf630-fde0-4860-b84a-42c933a9606e",
   "metadata": {},
   "outputs": [],
   "source": []
  },
  {
   "cell_type": "markdown",
   "id": "b1c32a5a-d3be-4f96-8dd9-f7860951020c",
   "metadata": {},
   "source": [
    "Наиболее популярные жанры"
   ]
  },
  {
   "cell_type": "code",
   "execution_count": null,
   "id": "1bc50491-9235-4d3c-a6c2-297f7c05a959",
   "metadata": {},
   "outputs": [],
   "source": []
  },
  {
   "cell_type": "markdown",
   "id": "15254e66-e80e-473b-ba24-abebea5ccac7",
   "metadata": {},
   "source": [
    "Треки, которые никто не прослушал"
   ]
  },
  {
   "cell_type": "code",
   "execution_count": null,
   "id": "50bc50c6-2d83-4c7e-97fa-3e7627978438",
   "metadata": {},
   "outputs": [],
   "source": []
  },
  {
   "cell_type": "markdown",
   "id": "0d850a07-ef1e-462f-891a-1cf89f2e24ef",
   "metadata": {},
   "source": [
    "# Преобразование данных"
   ]
  },
  {
   "cell_type": "markdown",
   "id": "fabcf8d2-1192-4df5-b20b-fbb84689f57a",
   "metadata": {},
   "source": [
    "Преобразуем данные в формат, более пригодный для дальнейшего использования в расчётах рекомендаций."
   ]
  },
  {
   "cell_type": "code",
   "execution_count": null,
   "id": "a425556a-9382-45ca-a04e-f1981a522126",
   "metadata": {},
   "outputs": [],
   "source": []
  },
  {
   "cell_type": "markdown",
   "id": "4d1be653-eed8-4fa0-a9c5-3811b080d71d",
   "metadata": {},
   "source": [
    "# Сохранение данных"
   ]
  },
  {
   "cell_type": "markdown",
   "id": "36f1314a-3af3-4faf-a0b1-3045173d1500",
   "metadata": {},
   "source": [
    "Сохраним данные в двух файлах в персональном S3-бакете по пути `recsys/data/`:\n",
    "- `items.parquet` — все данные о музыкальных треках,\n",
    "- `events.parquet` — все данные о взаимодействиях."
   ]
  },
  {
   "cell_type": "code",
   "execution_count": null,
   "id": "9f77af17-7705-4fae-9aad-db579b39faad",
   "metadata": {},
   "outputs": [],
   "source": []
  },
  {
   "cell_type": "markdown",
   "id": "72ecbbed-c560-44d9-9c14-86c7dc76f399",
   "metadata": {},
   "source": [
    "# Очистка памяти"
   ]
  },
  {
   "cell_type": "markdown",
   "id": "b5358ede-ba6e-4c4f-bd73-5b9344f0ba79",
   "metadata": {},
   "source": [
    "Здесь, может понадобится очистка памяти для высвобождения ресурсов для выполнения кода ниже. \n",
    "\n",
    "Приведите соответствующие код, комментарии, например:\n",
    "- код для удаление более ненужных переменных,\n",
    "- комментарий, что следует перезапустить kernel, выполнить такие-то начальные секции и продолжить с этапа 3."
   ]
  },
  {
   "cell_type": "code",
   "execution_count": null,
   "id": "767fe920-e12e-4ad8-b04e-56e8091fac9f",
   "metadata": {},
   "outputs": [],
   "source": []
  },
  {
   "cell_type": "markdown",
   "id": "708503df-ee89-4cf3-8489-093dc478e2a8",
   "metadata": {},
   "source": [
    "# === ЭТАП 3 ==="
   ]
  },
  {
   "cell_type": "markdown",
   "id": "fd77de22-e10f-4b42-85c1-8fb6f805fe68",
   "metadata": {},
   "source": [
    "# Загрузка данных"
   ]
  },
  {
   "cell_type": "markdown",
   "id": "780a4241-1ecd-4a3e-bbb3-fc2f6ca94f68",
   "metadata": {},
   "source": [
    "Если необходимо, то загружаем items.parquet, events.parquet."
   ]
  },
  {
   "cell_type": "code",
   "execution_count": null,
   "id": "f19fc8a5-bd2c-40d7-864a-ee75aca6d512",
   "metadata": {},
   "outputs": [],
   "source": []
  },
  {
   "cell_type": "code",
   "execution_count": null,
   "id": "5db1e801-5845-4ce3-86f2-c2fa30f68cc5",
   "metadata": {},
   "outputs": [],
   "source": []
  },
  {
   "cell_type": "markdown",
   "id": "a694c023-6477-490b-939d-1cfa6f5f1b72",
   "metadata": {},
   "source": [
    "# Разбиение данных"
   ]
  },
  {
   "cell_type": "markdown",
   "id": "fbd5f6e0-54e7-4428-8678-eabce505d82c",
   "metadata": {},
   "source": [
    "Разбиваем данные на тренировочную, тестовую выборки."
   ]
  },
  {
   "cell_type": "code",
   "execution_count": null,
   "id": "00c2dfa5-d8a2-47d1-922e-6eefee2c62d1",
   "metadata": {},
   "outputs": [],
   "source": []
  },
  {
   "cell_type": "code",
   "execution_count": null,
   "id": "26fe3e3c-8c5f-4437-bf13-9191adef08bb",
   "metadata": {},
   "outputs": [],
   "source": []
  },
  {
   "cell_type": "markdown",
   "id": "9131c7e6-8852-4556-b510-51f7253cc299",
   "metadata": {},
   "source": [
    "# Топ популярных"
   ]
  },
  {
   "cell_type": "markdown",
   "id": "dd70d43a-88cc-4719-b291-feaed7136f30",
   "metadata": {},
   "source": [
    "Рассчитаем рекомендации как топ популярных."
   ]
  },
  {
   "cell_type": "code",
   "execution_count": null,
   "id": "ee45e200-b7d6-4f56-9077-aad431689b96",
   "metadata": {},
   "outputs": [],
   "source": []
  },
  {
   "cell_type": "code",
   "execution_count": null,
   "id": "7690c86f-7aa9-46ed-bba5-2c837626411e",
   "metadata": {},
   "outputs": [],
   "source": []
  },
  {
   "cell_type": "markdown",
   "id": "2ad231f2-6158-421a-b7fa-01d8bc3ed572",
   "metadata": {},
   "source": [
    "# Персональные"
   ]
  },
  {
   "cell_type": "markdown",
   "id": "86159460-cd9d-4b63-8248-604ea3c9aebf",
   "metadata": {},
   "source": [
    "Рассчитаем персональные рекомендации."
   ]
  },
  {
   "cell_type": "code",
   "execution_count": null,
   "id": "d2944822-569c-4f9b-82dc-70a7fa2d542e",
   "metadata": {},
   "outputs": [],
   "source": []
  },
  {
   "cell_type": "code",
   "execution_count": null,
   "id": "1e8cdb58-3a8c-45ad-8e5f-7f950314aa56",
   "metadata": {},
   "outputs": [],
   "source": []
  },
  {
   "cell_type": "markdown",
   "id": "5f09dc7e-7c91-4355-860a-b9cfb9f33f15",
   "metadata": {},
   "source": [
    "# Похожие"
   ]
  },
  {
   "cell_type": "markdown",
   "id": "1dfcb683-b440-40a8-9975-894156a53872",
   "metadata": {},
   "source": [
    "Рассчитаем похожие, они позже пригодятся для онлайн-рекомендаций."
   ]
  },
  {
   "cell_type": "code",
   "execution_count": null,
   "id": "a75d07ee-4b12-4ce5-aa85-e45cb7a7a4f0",
   "metadata": {},
   "outputs": [],
   "source": []
  },
  {
   "cell_type": "code",
   "execution_count": null,
   "id": "ce370904-4c49-4152-8706-416074ea9b9a",
   "metadata": {},
   "outputs": [],
   "source": []
  },
  {
   "cell_type": "markdown",
   "id": "0087a3e7-ca9f-42cd-944c-944222c1baef",
   "metadata": {},
   "source": [
    "# Построение признаков"
   ]
  },
  {
   "cell_type": "markdown",
   "id": "e82a32e1-b90b-4eaf-9439-fc8deab9f34b",
   "metadata": {},
   "source": [
    "Построим три признака, можно больше, для ранжирующей модели."
   ]
  },
  {
   "cell_type": "code",
   "execution_count": null,
   "id": "05b4ae84-406a-44a4-abec-4f80f93e3004",
   "metadata": {},
   "outputs": [],
   "source": []
  },
  {
   "cell_type": "code",
   "execution_count": null,
   "id": "00f84c35-f544-4c3d-ad53-9b1d2b684c75",
   "metadata": {},
   "outputs": [],
   "source": []
  },
  {
   "cell_type": "markdown",
   "id": "47bcf88d-b236-46f0-a6f3-38ddd64895fe",
   "metadata": {},
   "source": [
    "# Ранжирование рекомендаций"
   ]
  },
  {
   "cell_type": "markdown",
   "id": "e8cd8223-3418-4493-8c87-1f76286ebda0",
   "metadata": {},
   "source": [
    "Построим ранжирующую модель, чтобы сделать рекомендации более точными. Отранжируем рекомендации."
   ]
  },
  {
   "cell_type": "code",
   "execution_count": null,
   "id": "79f1dd92-32a9-463d-827e-8bb9ee5bbb54",
   "metadata": {},
   "outputs": [],
   "source": []
  },
  {
   "cell_type": "code",
   "execution_count": null,
   "id": "6dbe4db4-1ac5-44da-a13c-8e7f9768ab73",
   "metadata": {},
   "outputs": [],
   "source": []
  },
  {
   "cell_type": "markdown",
   "id": "b3c84071-45b5-4a15-a683-e0ab034a3128",
   "metadata": {},
   "source": [
    "# Оценка качества"
   ]
  },
  {
   "cell_type": "markdown",
   "id": "1b107fe4-554e-42b1-87d9-c435a52bb77a",
   "metadata": {},
   "source": [
    "Проверим оценку качества трёх типов рекомендаций: \n",
    "\n",
    "- топ популярных,\n",
    "- персональных, полученных при помощи ALS,\n",
    "- итоговых\n",
    "  \n",
    "по четырем метрикам: recall, precision, coverage, novelty."
   ]
  },
  {
   "cell_type": "code",
   "execution_count": null,
   "id": "94d6f388-aecb-443e-8647-14014e932d4d",
   "metadata": {},
   "outputs": [],
   "source": []
  },
  {
   "cell_type": "code",
   "execution_count": null,
   "id": "26df411f-14c1-4848-8797-f37afe449cc6",
   "metadata": {},
   "outputs": [],
   "source": []
  },
  {
   "cell_type": "markdown",
   "id": "f1c8d38c-32b0-46a4-96f0-cd01dac708bc",
   "metadata": {},
   "source": [
    "# === Выводы, метрики ==="
   ]
  },
  {
   "cell_type": "markdown",
   "id": "f7d7d5d8-7d1e-4fdf-a6cd-83e5ce92c684",
   "metadata": {},
   "source": [
    "Основные выводы при работе над расчётом рекомендаций, рассчитанные метрики."
   ]
  },
  {
   "cell_type": "code",
   "execution_count": null,
   "id": "6403097d-db36-46d9-8952-613c9bd51b05",
   "metadata": {},
   "outputs": [],
   "source": []
  },
  {
   "cell_type": "code",
   "execution_count": null,
   "id": "986cfdd5-6f2e-4de6-8666-85804c87d04b",
   "metadata": {},
   "outputs": [],
   "source": []
  }
 ],
 "metadata": {
  "kernelspec": {
   "display_name": "env_recsys_start",
   "language": "python",
   "name": "python3"
  },
  "language_info": {
   "codemirror_mode": {
    "name": "ipython",
    "version": 3
   },
   "file_extension": ".py",
   "mimetype": "text/x-python",
   "name": "python",
   "nbconvert_exporter": "python",
   "pygments_lexer": "ipython3",
   "version": "3.10.12"
  }
 },
 "nbformat": 4,
 "nbformat_minor": 5
}
